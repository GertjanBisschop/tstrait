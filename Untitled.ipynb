{
 "cells": [
  {
   "cell_type": "code",
   "execution_count": 1,
   "id": "9ce796f0",
   "metadata": {},
   "outputs": [],
   "source": [
    "import tstrait.phenotype as pheno"
   ]
  },
  {
   "cell_type": "code",
   "execution_count": 2,
   "id": "9c6e65a8",
   "metadata": {},
   "outputs": [],
   "source": [
    "import tstrait.genotype as geno"
   ]
  },
  {
   "cell_type": "code",
   "execution_count": 3,
   "id": "022642d5",
   "metadata": {},
   "outputs": [],
   "source": [
    "model = geno.TraitModelGCTA(0, 1)"
   ]
  },
  {
   "cell_type": "code",
   "execution_count": 4,
   "id": "dd269819",
   "metadata": {},
   "outputs": [],
   "source": [
    "import msprime"
   ]
  },
  {
   "cell_type": "code",
   "execution_count": 11,
   "id": "d88ef553",
   "metadata": {},
   "outputs": [],
   "source": [
    "    ts = msprime.sim_ancestry(\n",
    "        samples=3,\n",
    "        recombination_rate=1e-8,\n",
    "        sequence_length=100_000,\n",
    "        population_size=10_000,\n",
    "        random_seed=123456)\n",
    "    # Visualise the simulated\n",
    "    ts = msprime.sim_mutations(ts, rate=1e-8, random_seed=54321)"
   ]
  },
  {
   "cell_type": "code",
   "execution_count": null,
   "id": "54cda772",
   "metadata": {},
   "outputs": [],
   "source": []
  },
  {
   "cell_type": "code",
   "execution_count": 12,
   "id": "0a552814",
   "metadata": {},
   "outputs": [],
   "source": [
    "phenotype_result, genotype_result = pheno.sim_phenotype(ts, 5, 0.3, model, 1)"
   ]
  },
  {
   "cell_type": "code",
   "execution_count": 13,
   "id": "69cb0a2e",
   "metadata": {},
   "outputs": [
    {
     "data": {
      "text/plain": [
       "array([-0.10324972, -0.17786587, -0.11869266])"
      ]
     },
     "execution_count": 13,
     "metadata": {},
     "output_type": "execute_result"
    }
   ],
   "source": [
    "phenotype_result.phenotype"
   ]
  },
  {
   "cell_type": "code",
   "execution_count": 14,
   "id": "5796f1a2",
   "metadata": {},
   "outputs": [
    {
     "data": {
      "text/plain": [
       "array([ 2, 33, 36, 55, 70])"
      ]
     },
     "execution_count": 14,
     "metadata": {},
     "output_type": "execute_result"
    }
   ],
   "source": [
    "genotype_result.site_id"
   ]
  },
  {
   "cell_type": "code",
   "execution_count": null,
   "id": "a6263598",
   "metadata": {},
   "outputs": [],
   "source": []
  }
 ],
 "metadata": {
  "kernelspec": {
   "display_name": "msprime-env",
   "language": "python",
   "name": "msprime-env"
  },
  "language_info": {
   "codemirror_mode": {
    "name": "ipython",
    "version": 3
   },
   "file_extension": ".py",
   "mimetype": "text/x-python",
   "name": "python",
   "nbconvert_exporter": "python",
   "pygments_lexer": "ipython3",
   "version": "3.9.16"
  }
 },
 "nbformat": 4,
 "nbformat_minor": 5
}
