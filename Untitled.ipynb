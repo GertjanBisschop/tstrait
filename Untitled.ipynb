{
 "cells": [
  {
   "cell_type": "code",
   "execution_count": 1,
   "id": "f8609797",
   "metadata": {},
   "outputs": [],
   "source": [
    "from tstrait import phenotype, trait"
   ]
  },
  {
   "cell_type": "code",
   "execution_count": 2,
   "id": "0b72af79",
   "metadata": {},
   "outputs": [],
   "source": [
    "import msprime"
   ]
  },
  {
   "cell_type": "code",
   "execution_count": 3,
   "id": "db1b6a09",
   "metadata": {},
   "outputs": [],
   "source": [
    "    ts = msprime.sim_ancestry(\n",
    "        samples=3,\n",
    "        recombination_rate=1e-8,\n",
    "        sequence_length=100_000,\n",
    "        population_size=10_000,\n",
    "        random_seed=123456)"
   ]
  },
  {
   "cell_type": "code",
   "execution_count": 4,
   "id": "d952c5f1",
   "metadata": {},
   "outputs": [],
   "source": [
    "ts = msprime.sim_mutations(ts, rate=1e-6, random_seed=54321)"
   ]
  },
  {
   "cell_type": "code",
   "execution_count": 5,
   "id": "a3ccbf11",
   "metadata": {},
   "outputs": [],
   "source": [
    "model = trait.TraitModelGCTA(0,1)"
   ]
  },
  {
   "cell_type": "code",
   "execution_count": 6,
   "id": "42b0caec",
   "metadata": {},
   "outputs": [
    {
     "ename": "AttributeError",
     "evalue": "'SiteGenetic' object has no attribute 'genetic_causal_node'",
     "output_type": "error",
     "traceback": [
      "\u001b[1;31m---------------------------------------------------------------------------\u001b[0m",
      "\u001b[1;31mAttributeError\u001b[0m                            Traceback (most recent call last)",
      "Cell \u001b[1;32mIn[6], line 1\u001b[0m\n\u001b[1;32m----> 1\u001b[0m \u001b[43mphenotype\u001b[49m\u001b[38;5;241;43m.\u001b[39;49m\u001b[43msim_phenotype\u001b[49m\u001b[43m(\u001b[49m\u001b[43mts\u001b[49m\u001b[43m,\u001b[49m\u001b[43m \u001b[49m\u001b[38;5;241;43m5\u001b[39;49m\u001b[43m,\u001b[49m\u001b[43m \u001b[49m\u001b[43mmodel\u001b[49m\u001b[43m)\u001b[49m\n",
      "File \u001b[1;32m~\\OneDrive\\Documents\\Research\\Github\\tstrait\\tstrait\\phenotype.py:213\u001b[0m, in \u001b[0;36msim_phenotype\u001b[1;34m(ts, num_causal, model, h2, random_seed)\u001b[0m\n\u001b[0;32m    209\u001b[0m     \u001b[38;5;28;01mraise\u001b[39;00m \u001b[38;5;167;01mValueError\u001b[39;00m(\u001b[38;5;124m\"\u001b[39m\u001b[38;5;124mHeritability should be 0 <= h2 <= 1\u001b[39m\u001b[38;5;124m\"\u001b[39m)\n\u001b[0;32m    211\u001b[0m rng \u001b[38;5;241m=\u001b[39m np\u001b[38;5;241m.\u001b[39mrandom\u001b[38;5;241m.\u001b[39mdefault_rng(random_seed)\n\u001b[1;32m--> 213\u001b[0m \u001b[38;5;28;01mreturn\u001b[39;00m \u001b[43m_sim_phenotype\u001b[49m\u001b[43m(\u001b[49m\u001b[43mts\u001b[49m\u001b[43m,\u001b[49m\u001b[43m \u001b[49m\u001b[43mnum_causal\u001b[49m\u001b[43m,\u001b[49m\u001b[43m \u001b[49m\u001b[43mh2\u001b[49m\u001b[43m,\u001b[49m\u001b[43m \u001b[49m\u001b[43mmodel\u001b[49m\u001b[43m,\u001b[49m\u001b[43m \u001b[49m\u001b[43mrng\u001b[49m\u001b[43m)\u001b[49m\n",
      "File \u001b[1;32m~\\OneDrive\\Documents\\Research\\Github\\tstrait\\tstrait\\phenotype.py:196\u001b[0m, in \u001b[0;36m_sim_phenotype\u001b[1;34m(ts, num_causal, h2, model, rng)\u001b[0m\n\u001b[0;32m    193\u001b[0m \u001b[38;5;28;01mdef\u001b[39;00m \u001b[38;5;21m_sim_phenotype\u001b[39m(ts, num_causal, h2, model, rng):\n\u001b[0;32m    194\u001b[0m     simulateClass \u001b[38;5;241m=\u001b[39m SimPhenotype(ts, num_causal, h2, model, rng)\n\u001b[1;32m--> 196\u001b[0m     genetic_result, phenotype_result \u001b[38;5;241m=\u001b[39m \u001b[43msimulateClass\u001b[49m\u001b[38;5;241;43m.\u001b[39;49m\u001b[43meffect_size_simulation\u001b[49m\u001b[43m(\u001b[49m\u001b[43m)\u001b[49m\n\u001b[0;32m    197\u001b[0m     \u001b[38;5;66;03m# Ancestral state and location can easily be determined\u001b[39;00m\n\u001b[0;32m    199\u001b[0m     \u001b[38;5;28;01mreturn\u001b[39;00m phenotype_result, genetic_result\n",
      "File \u001b[1;32m~\\OneDrive\\Documents\\Research\\Github\\tstrait\\tstrait\\phenotype.py:182\u001b[0m, in \u001b[0;36mSimPhenotype.effect_size_simulation\u001b[1;34m(self)\u001b[0m\n\u001b[0;32m    180\u001b[0m     beta_list[i] \u001b[38;5;241m=\u001b[39m genetic_info_site\u001b[38;5;241m.\u001b[39mbeta\n\u001b[0;32m    181\u001b[0m     frequency[i] \u001b[38;5;241m=\u001b[39m genetic_info_site\u001b[38;5;241m.\u001b[39mallele_freq\n\u001b[1;32m--> 182\u001b[0m     G \u001b[38;5;241m+\u001b[39m\u001b[38;5;241m=\u001b[39m \u001b[43mgenetic_info_site\u001b[49m\u001b[38;5;241;43m.\u001b[39;49m\u001b[43mgenetic_causal_node\u001b[49m\n\u001b[0;32m    184\u001b[0m G \u001b[38;5;241m=\u001b[39m \u001b[38;5;28mself\u001b[39m\u001b[38;5;241m.\u001b[39m_individual_genetic(G)\n\u001b[0;32m    186\u001b[0m phenotype, E \u001b[38;5;241m=\u001b[39m \u001b[38;5;28mself\u001b[39m\u001b[38;5;241m.\u001b[39m_environment(G)\n",
      "\u001b[1;31mAttributeError\u001b[0m: 'SiteGenetic' object has no attribute 'genetic_causal_node'"
     ]
    }
   ],
   "source": [
    "phenotype.sim_phenotype(ts, 5, model)"
   ]
  }
 ],
 "metadata": {
  "kernelspec": {
   "display_name": "msprime-env",
   "language": "python",
   "name": "msprime-env"
  },
  "language_info": {
   "codemirror_mode": {
    "name": "ipython",
    "version": 3
   },
   "file_extension": ".py",
   "mimetype": "text/x-python",
   "name": "python",
   "nbconvert_exporter": "python",
   "pygments_lexer": "ipython3",
   "version": "3.9.16"
  }
 },
 "nbformat": 4,
 "nbformat_minor": 5
}
